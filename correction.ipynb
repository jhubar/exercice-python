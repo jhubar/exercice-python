{
 "cells": [
  {
   "attachments": {},
   "cell_type": "markdown",
   "metadata": {},
   "source": [
    "# Exercice 1: Calculer la somme des n premiers nombres\n",
    "Demandez à l'étudiant de créer un programme qui demande à l'utilisateur d'entrer un nombre entier n, puis calcule la somme des n premiers nombres."
   ]
  },
  {
   "cell_type": "code",
   "execution_count": 4,
   "metadata": {},
   "outputs": [
    {
     "name": "stdout",
     "output_type": "stream",
     "text": [
      "La somme des 3 premiers nombres est: 6\n"
     ]
    }
   ],
   "source": [
    "n = int(input(\"Entrez un nombre entier n: \"))\n",
    "somme = sum(range(n+1))\n",
    "print(\"La somme des\", n, \"premiers nombres est:\", somme)\n"
   ]
  },
  {
   "attachments": {},
   "cell_type": "markdown",
   "metadata": {},
   "source": [
    "# Exercice 1.b: Calculer la moyenne de n nombres\n",
    "Demandez à l'étudiant de créer un programme qui demande à l'utilisateur d'entrer un nombre entier n, puis de saisir n nombres et de calculer leur moyenne."
   ]
  },
  {
   "cell_type": "code",
   "execution_count": null,
   "metadata": {},
   "outputs": [],
   "source": [
    "n = int(input(\"Entrez un nombre entier n: \"))\n",
    "nombres = []\n",
    "for i in range(n):\n",
    "    nombre = float(input(\"Entrez le nombre {}: \".format(i+1)))\n",
    "    nombres.append(nombre)\n",
    "\n",
    "moyenne = sum(nombres) / len(nombres)\n",
    "print(\"La moyenne des nombres est:\", moyenne)\n"
   ]
  },
  {
   "attachments": {},
   "cell_type": "markdown",
   "metadata": {},
   "source": [
    "# Exercice 2: Inverser une chaîne de caractères\n",
    "Demandez à l'étudiant de créer un programme qui inverse une chaîne de caractères donnée par l'utilisateur."
   ]
  },
  {
   "cell_type": "code",
   "execution_count": 5,
   "metadata": {},
   "outputs": [
    {
     "name": "stdout",
     "output_type": "stream",
     "text": [
      "La chaîne inversée est: neiluj\n"
     ]
    }
   ],
   "source": [
    "chaine = input(\"Entrez une chaîne de caractères: \")\n",
    "chaine_inverse = chaine[::-1]\n",
    "print(\"La chaîne inversée est:\", chaine_inverse)\n"
   ]
  },
  {
   "attachments": {},
   "cell_type": "markdown",
   "metadata": {},
   "source": [
    "# Exercice 2.b: Calculer la factorielle d'un nombre\n",
    "Demandez à l'étudiant de créer un programme qui demande à l'utilisateur d'entrer un nombre entier n, puis de calculer sa factorielle."
   ]
  },
  {
   "cell_type": "code",
   "execution_count": null,
   "metadata": {},
   "outputs": [],
   "source": [
    "def factorielle(n):\n",
    "    if n == 0:\n",
    "        return 1\n",
    "    else:\n",
    "        return n * factorielle(n-1)\n",
    "\n",
    "n = int(input(\"Entrez un nombre entier n: \"))\n",
    "print(\"La factorielle de\", n, \"est:\", factorielle(n))\n"
   ]
  },
  {
   "attachments": {},
   "cell_type": "markdown",
   "metadata": {},
   "source": [
    "# Exercice 2.c: Afficher les tables de multiplication jusqu'à n\n",
    "Demandez à l'étudiant de créer un programme qui demande à l'utilisateur d'entrer un nombre entier n, puis d'afficher les tables de multiplication jusqu'à n."
   ]
  },
  {
   "cell_type": "code",
   "execution_count": null,
   "metadata": {},
   "outputs": [],
   "source": [
    "n = int(input(\"Entrez un nombre entier n: \"))\n",
    "for i in range(1, n+1):\n",
    "    print(\"Table de multiplication de\", i)\n",
    "    for j in range(1, 11):\n",
    "        print(\"{} x {} = {}\".format(i, j, i*j))\n",
    "    print()\n"
   ]
  },
  {
   "attachments": {},
   "cell_type": "markdown",
   "metadata": {},
   "source": [
    "# Exercice 2.d: Trouver le plus grand commun diviseur de deux nombres\n",
    "Demandez à l'étudiant de créer un programme qui demande à l'utilisateur d'entrer deux nombres entiers et de trouver leur plus grand commun diviseur ("
   ]
  },
  {
   "cell_type": "code",
   "execution_count": null,
   "metadata": {},
   "outputs": [],
   "source": [
    "def pgcd(a, b):\n",
    "    while b:\n",
    "        a, b = b, a % b\n",
    "    return a\n",
    "\n",
    "nombre1 = int(input(\"Entrez le premier nombre: \"))\n",
    "nombre2 = int(input(\"Entrez le deuxième nombre: \"))\n",
    "print(\"Le PGCD de\", nombre1, \"et\", nombre2, \"est:\", pgcd(nombre1, nombre2))\n"
   ]
  },
  {
   "attachments": {},
   "cell_type": "markdown",
   "metadata": {},
   "source": [
    "# Exercice 2.e: Afficher un triangle d'étoiles\n",
    "Demandez à l'étudiant de créer un programme qui demande à l'utilisateur d'entrer un nombre entier n, puis d'afficher un triangle d'étoiles ayant n lignes."
   ]
  },
  {
   "cell_type": "code",
   "execution_count": null,
   "metadata": {},
   "outputs": [],
   "source": [
    "n = int(input(\"Entrez un nombre entier n: \"))\n",
    "for i in range(1, n+1):\n",
    "    print(\" \" * (n-i) + \"*\" * (2*i-1))"
   ]
  },
  {
   "attachments": {},
   "cell_type": "markdown",
   "metadata": {},
   "source": [
    "# Exercice 3: Vérifier si un nombre est premier\n",
    "Demandez à l'étudiant de créer un programme qui vérifie si un nombre entier donné par l'utilisateur est premier."
   ]
  },
  {
   "cell_type": "code",
   "execution_count": 7,
   "metadata": {},
   "outputs": [
    {
     "name": "stdout",
     "output_type": "stream",
     "text": [
      "51 n'est pas un nombre premier.\n"
     ]
    }
   ],
   "source": [
    "def est_premier(n):\n",
    "    if n <= 1:\n",
    "        return False\n",
    "    for i in range(2, n):\n",
    "        if n % i == 0:\n",
    "            return False\n",
    "    return True\n",
    "\n",
    "nombre = int(input(\"Entrez un nombre entier: \"))\n",
    "if est_premier(nombre):\n",
    "    print(nombre, \"est un nombre premier.\")\n",
    "else:\n",
    "    print(nombre, \"n'est pas un nombre premier.\")\n"
   ]
  },
  {
   "attachments": {},
   "cell_type": "markdown",
   "metadata": {},
   "source": [
    "# Exercice 4: Compter les voyelles et les consonnes dans une chaîne\n",
    "Demandez à l'étudiant de créer un programme qui compte les voyelles et les consonnes dans une chaîne de caractères donnée par l'utilisateur."
   ]
  },
  {
   "cell_type": "code",
   "execution_count": 8,
   "metadata": {},
   "outputs": [
    {
     "name": "stdout",
     "output_type": "stream",
     "text": [
      "Nombre de voyelles: 3\n",
      "Nombre de consonnes: 4\n"
     ]
    }
   ],
   "source": [
    "chaine = input(\"Entrez une chaîne de caractères: \").lower()\n",
    "voyelles = \"aeiouy\"\n",
    "nb_voyelles = sum(1 for c in chaine if c in voyelles)\n",
    "nb_consonnes = sum(1 for c in chaine if c.isalpha() and c not in voyelles)\n",
    "\n",
    "print(\"Nombre de voyelles:\", nb_voyelles)\n",
    "print(\"Nombre de consonnes:\", nb_consonnes)\n"
   ]
  },
  {
   "attachments": {},
   "cell_type": "markdown",
   "metadata": {},
   "source": [
    "# Exercice 5: Fibonacci jusqu'à n\n",
    "Demandez à l'étudiant de créer un programme qui génère la séquence de Fibonacci jusqu'au n-ième terme, où n est donné par l'utilisateur."
   ]
  },
  {
   "cell_type": "code",
   "execution_count": 10,
   "metadata": {},
   "outputs": [
    {
     "name": "stdout",
     "output_type": "stream",
     "text": [
      "Les 89 premiers termes de la séquence Fibonacci sont:\n",
      "[0, 1, 1, 2, 3, 5, 8, 13, 21, 34, 55, 89, 144, 233, 377, 610, 987, 1597, 2584, 4181, 6765, 10946, 17711, 28657, 46368, 75025, 121393, 196418, 317811, 514229, 832040, 1346269, 2178309, 3524578, 5702887, 9227465, 14930352, 24157817, 39088169, 63245986, 102334155, 165580141, 267914296, 433494437, 701408733, 1134903170, 1836311903, 2971215073, 4807526976, 7778742049, 12586269025, 20365011074, 32951280099, 53316291173, 86267571272, 139583862445, 225851433717, 365435296162, 591286729879, 956722026041, 1548008755920, 2504730781961, 4052739537881, 6557470319842, 10610209857723, 17167680177565, 27777890035288, 44945570212853, 72723460248141, 117669030460994, 190392490709135, 308061521170129, 498454011879264, 806515533049393, 1304969544928657, 2111485077978050, 3416454622906707, 5527939700884757, 8944394323791464, 14472334024676221, 23416728348467685, 37889062373143906, 61305790721611591, 99194853094755497, 160500643816367088, 259695496911122585, 420196140727489673, 679891637638612258, 1100087778366101931]\n"
     ]
    }
   ],
   "source": [
    "def fibonacci(n):\n",
    "    if n <= 0:\n",
    "        return []\n",
    "    elif n == 1:\n",
    "        return [0]\n",
    "    elif n == 2:\n",
    "        return [0, 1]\n",
    "    else:\n",
    "        sequence = [0, 1]\n",
    "        while len(sequence) < n:\n",
    "            sequence.append(sequence[-1] + sequence[-2])\n",
    "        return sequence\n",
    "\n",
    "n = int(input(\"Entrez le nombre de termes de la séquence Fibonacci: \"))\n",
    "print(\"Les\", n, \"premiers termes de la séquence Fibonacci sont:\")\n",
    "print(fibonacci(n))\n"
   ]
  }
 ],
 "metadata": {
  "kernelspec": {
   "display_name": "pepite",
   "language": "python",
   "name": "python3"
  },
  "language_info": {
   "codemirror_mode": {
    "name": "ipython",
    "version": 3
   },
   "file_extension": ".py",
   "mimetype": "text/x-python",
   "name": "python",
   "nbconvert_exporter": "python",
   "pygments_lexer": "ipython3",
   "version": "3.10.4"
  },
  "orig_nbformat": 4
 },
 "nbformat": 4,
 "nbformat_minor": 2
}
