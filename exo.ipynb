{
 "cells": [
  {
   "attachments": {},
   "cell_type": "markdown",
   "metadata": {},
   "source": [
    "# Exercice 1: Calculer la somme des n premiers nombres\n",
    "Demandez à l'étudiant de créer un programme qui demande à l'utilisateur d'entrer un nombre entier n, puis calcule la somme des n premiers nombres."
   ]
  },
  {
   "cell_type": "code",
   "execution_count": 4,
   "metadata": {},
   "outputs": [
    {
     "name": "stdout",
     "output_type": "stream",
     "text": [
      "La somme des 3 premiers nombres est: 6\n"
     ]
    }
   ],
   "source": []
  },
  {
   "attachments": {},
   "cell_type": "markdown",
   "metadata": {},
   "source": [
    "# Exercice 1.b: Calculer la moyenne de n nombres\n",
    "Demandez à l'étudiant de créer un programme qui demande à l'utilisateur d'entrer un nombre entier n, puis de saisir n nombres et de calculer leur moyenne."
   ]
  },
  {
   "cell_type": "code",
   "execution_count": null,
   "metadata": {},
   "outputs": [],
   "source": []
  },
  {
   "attachments": {},
   "cell_type": "markdown",
   "metadata": {},
   "source": [
    "# Exercice 2: Inverser une chaîne de caractères\n",
    "Demandez à l'étudiant de créer un programme qui inverse une chaîne de caractères donnée par l'utilisateur."
   ]
  },
  {
   "cell_type": "code",
   "execution_count": 5,
   "metadata": {},
   "outputs": [
    {
     "name": "stdout",
     "output_type": "stream",
     "text": [
      "La chaîne inversée est: neiluj\n"
     ]
    }
   ],
   "source": []
  },
  {
   "attachments": {},
   "cell_type": "markdown",
   "metadata": {},
   "source": [
    "# Exercice 2.b: Calculer la factorielle d'un nombre\n",
    "Demandez à l'étudiant de créer un programme qui demande à l'utilisateur d'entrer un nombre entier n, puis de calculer sa factorielle."
   ]
  },
  {
   "cell_type": "code",
   "execution_count": null,
   "metadata": {},
   "outputs": [],
   "source": []
  },
  {
   "attachments": {},
   "cell_type": "markdown",
   "metadata": {},
   "source": [
    "# Exercice 2.c: Afficher les tables de multiplication jusqu'à n\n",
    "Demandez à l'étudiant de créer un programme qui demande à l'utilisateur d'entrer un nombre entier n, puis d'afficher les tables de multiplication jusqu'à n."
   ]
  },
  {
   "cell_type": "code",
   "execution_count": null,
   "metadata": {},
   "outputs": [],
   "source": []
  },
  {
   "attachments": {},
   "cell_type": "markdown",
   "metadata": {},
   "source": [
    "# Exercice 2.d: Trouver le plus grand commun diviseur de deux nombres\n",
    "Demandez à l'étudiant de créer un programme qui demande à l'utilisateur d'entrer deux nombres entiers et de trouver leur plus grand commun diviseur ("
   ]
  },
  {
   "cell_type": "code",
   "execution_count": null,
   "metadata": {},
   "outputs": [],
   "source": []
  },
  {
   "attachments": {},
   "cell_type": "markdown",
   "metadata": {},
   "source": [
    "# Exercice 2.e: Afficher un triangle d'étoiles\n",
    "Demandez à l'étudiant de créer un programme qui demande à l'utilisateur d'entrer un nombre entier n, puis d'afficher un triangle d'étoiles ayant n lignes."
   ]
  },
  {
   "cell_type": "code",
   "execution_count": null,
   "metadata": {},
   "outputs": [],
   "source": []
  },
  {
   "attachments": {},
   "cell_type": "markdown",
   "metadata": {},
   "source": [
    "# Exercice 3: Vérifier si un nombre est premier\n",
    "Demandez à l'étudiant de créer un programme qui vérifie si un nombre entier donné par l'utilisateur est premier."
   ]
  },
  {
   "cell_type": "code",
   "execution_count": 7,
   "metadata": {},
   "outputs": [
    {
     "name": "stdout",
     "output_type": "stream",
     "text": [
      "51 n'est pas un nombre premier.\n"
     ]
    }
   ],
   "source": []
  },
  {
   "attachments": {},
   "cell_type": "markdown",
   "metadata": {},
   "source": [
    "# Exercice 4: Compter les voyelles et les consonnes dans une chaîne\n",
    "Demandez à l'étudiant de créer un programme qui compte les voyelles et les consonnes dans une chaîne de caractères donnée par l'utilisateur."
   ]
  },
  {
   "cell_type": "code",
   "execution_count": 8,
   "metadata": {},
   "outputs": [
    {
     "name": "stdout",
     "output_type": "stream",
     "text": [
      "Nombre de voyelles: 3\n",
      "Nombre de consonnes: 4\n"
     ]
    }
   ],
   "source": []
  },
  {
   "attachments": {},
   "cell_type": "markdown",
   "metadata": {},
   "source": [
    "# Exercice 5: Fibonacci jusqu'à n\n",
    "Demandez à l'étudiant de créer un programme qui génère la séquence de Fibonacci jusqu'au n-ième terme, où n est donné par l'utilisateur."
   ]
  },
  {
   "cell_type": "code",
   "execution_count": 9,
   "metadata": {},
   "outputs": [
    {
     "name": "stdout",
     "output_type": "stream",
     "text": [
      "Les 5 premiers termes de la séquence Fibonacci sont:\n",
      "[0, 1, 1, 2, 3]\n"
     ]
    }
   ],
   "source": []
  }
 ],
 "metadata": {
  "kernelspec": {
   "display_name": "pepite",
   "language": "python",
   "name": "python3"
  },
  "language_info": {
   "codemirror_mode": {
    "name": "ipython",
    "version": 3
   },
   "file_extension": ".py",
   "mimetype": "text/x-python",
   "name": "python",
   "nbconvert_exporter": "python",
   "pygments_lexer": "ipython3",
   "version": "3.10.4"
  },
  "orig_nbformat": 4
 },
 "nbformat": 4,
 "nbformat_minor": 2
}
